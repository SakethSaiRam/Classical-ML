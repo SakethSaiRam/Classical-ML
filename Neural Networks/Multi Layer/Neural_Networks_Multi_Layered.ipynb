{
  "nbformat": 4,
  "nbformat_minor": 0,
  "metadata": {
    "colab": {
      "provenance": []
    },
    "kernelspec": {
      "name": "python3",
      "display_name": "Python 3"
    },
    "language_info": {
      "name": "python"
    }
  },
  "cells": [
    {
      "cell_type": "markdown",
      "source": [
        "# Neural Network Model (Multi-Layered)\n",
        "\n",
        "- This model has been implemented from scratch using the libraries **NumPy** and **Matplotlib**."
      ],
      "metadata": {
        "id": "SmgWnAHR7P8J"
      }
    },
    {
      "cell_type": "code",
      "execution_count": null,
      "metadata": {
        "colab": {
          "base_uri": "https://localhost:8080/",
          "height": 1000
        },
        "collapsed": true,
        "id": "I2VX0ueN-jhp",
        "outputId": "cede733f-5c9a-479f-c7ce-695b7b64e8c9"
      },
      "outputs": [
        {
          "output_type": "display_data",
          "data": {
            "text/plain": [
              "<IPython.core.display.HTML object>"
            ],
            "text/html": [
              "\n",
              "     <input type=\"file\" id=\"files-125a0b37-6a46-413b-bf68-9ed78b594726\" name=\"files[]\" multiple disabled\n",
              "        style=\"border:none\" />\n",
              "     <output id=\"result-125a0b37-6a46-413b-bf68-9ed78b594726\">\n",
              "      Upload widget is only available when the cell has been executed in the\n",
              "      current browser session. Please rerun this cell to enable.\n",
              "      </output>\n",
              "      <script>// Copyright 2017 Google LLC\n",
              "//\n",
              "// Licensed under the Apache License, Version 2.0 (the \"License\");\n",
              "// you may not use this file except in compliance with the License.\n",
              "// You may obtain a copy of the License at\n",
              "//\n",
              "//      http://www.apache.org/licenses/LICENSE-2.0\n",
              "//\n",
              "// Unless required by applicable law or agreed to in writing, software\n",
              "// distributed under the License is distributed on an \"AS IS\" BASIS,\n",
              "// WITHOUT WARRANTIES OR CONDITIONS OF ANY KIND, either express or implied.\n",
              "// See the License for the specific language governing permissions and\n",
              "// limitations under the License.\n",
              "\n",
              "/**\n",
              " * @fileoverview Helpers for google.colab Python module.\n",
              " */\n",
              "(function(scope) {\n",
              "function span(text, styleAttributes = {}) {\n",
              "  const element = document.createElement('span');\n",
              "  element.textContent = text;\n",
              "  for (const key of Object.keys(styleAttributes)) {\n",
              "    element.style[key] = styleAttributes[key];\n",
              "  }\n",
              "  return element;\n",
              "}\n",
              "\n",
              "// Max number of bytes which will be uploaded at a time.\n",
              "const MAX_PAYLOAD_SIZE = 100 * 1024;\n",
              "\n",
              "function _uploadFiles(inputId, outputId) {\n",
              "  const steps = uploadFilesStep(inputId, outputId);\n",
              "  const outputElement = document.getElementById(outputId);\n",
              "  // Cache steps on the outputElement to make it available for the next call\n",
              "  // to uploadFilesContinue from Python.\n",
              "  outputElement.steps = steps;\n",
              "\n",
              "  return _uploadFilesContinue(outputId);\n",
              "}\n",
              "\n",
              "// This is roughly an async generator (not supported in the browser yet),\n",
              "// where there are multiple asynchronous steps and the Python side is going\n",
              "// to poll for completion of each step.\n",
              "// This uses a Promise to block the python side on completion of each step,\n",
              "// then passes the result of the previous step as the input to the next step.\n",
              "function _uploadFilesContinue(outputId) {\n",
              "  const outputElement = document.getElementById(outputId);\n",
              "  const steps = outputElement.steps;\n",
              "\n",
              "  const next = steps.next(outputElement.lastPromiseValue);\n",
              "  return Promise.resolve(next.value.promise).then((value) => {\n",
              "    // Cache the last promise value to make it available to the next\n",
              "    // step of the generator.\n",
              "    outputElement.lastPromiseValue = value;\n",
              "    return next.value.response;\n",
              "  });\n",
              "}\n",
              "\n",
              "/**\n",
              " * Generator function which is called between each async step of the upload\n",
              " * process.\n",
              " * @param {string} inputId Element ID of the input file picker element.\n",
              " * @param {string} outputId Element ID of the output display.\n",
              " * @return {!Iterable<!Object>} Iterable of next steps.\n",
              " */\n",
              "function* uploadFilesStep(inputId, outputId) {\n",
              "  const inputElement = document.getElementById(inputId);\n",
              "  inputElement.disabled = false;\n",
              "\n",
              "  const outputElement = document.getElementById(outputId);\n",
              "  outputElement.innerHTML = '';\n",
              "\n",
              "  const pickedPromise = new Promise((resolve) => {\n",
              "    inputElement.addEventListener('change', (e) => {\n",
              "      resolve(e.target.files);\n",
              "    });\n",
              "  });\n",
              "\n",
              "  const cancel = document.createElement('button');\n",
              "  inputElement.parentElement.appendChild(cancel);\n",
              "  cancel.textContent = 'Cancel upload';\n",
              "  const cancelPromise = new Promise((resolve) => {\n",
              "    cancel.onclick = () => {\n",
              "      resolve(null);\n",
              "    };\n",
              "  });\n",
              "\n",
              "  // Wait for the user to pick the files.\n",
              "  const files = yield {\n",
              "    promise: Promise.race([pickedPromise, cancelPromise]),\n",
              "    response: {\n",
              "      action: 'starting',\n",
              "    }\n",
              "  };\n",
              "\n",
              "  cancel.remove();\n",
              "\n",
              "  // Disable the input element since further picks are not allowed.\n",
              "  inputElement.disabled = true;\n",
              "\n",
              "  if (!files) {\n",
              "    return {\n",
              "      response: {\n",
              "        action: 'complete',\n",
              "      }\n",
              "    };\n",
              "  }\n",
              "\n",
              "  for (const file of files) {\n",
              "    const li = document.createElement('li');\n",
              "    li.append(span(file.name, {fontWeight: 'bold'}));\n",
              "    li.append(span(\n",
              "        `(${file.type || 'n/a'}) - ${file.size} bytes, ` +\n",
              "        `last modified: ${\n",
              "            file.lastModifiedDate ? file.lastModifiedDate.toLocaleDateString() :\n",
              "                                    'n/a'} - `));\n",
              "    const percent = span('0% done');\n",
              "    li.appendChild(percent);\n",
              "\n",
              "    outputElement.appendChild(li);\n",
              "\n",
              "    const fileDataPromise = new Promise((resolve) => {\n",
              "      const reader = new FileReader();\n",
              "      reader.onload = (e) => {\n",
              "        resolve(e.target.result);\n",
              "      };\n",
              "      reader.readAsArrayBuffer(file);\n",
              "    });\n",
              "    // Wait for the data to be ready.\n",
              "    let fileData = yield {\n",
              "      promise: fileDataPromise,\n",
              "      response: {\n",
              "        action: 'continue',\n",
              "      }\n",
              "    };\n",
              "\n",
              "    // Use a chunked sending to avoid message size limits. See b/62115660.\n",
              "    let position = 0;\n",
              "    do {\n",
              "      const length = Math.min(fileData.byteLength - position, MAX_PAYLOAD_SIZE);\n",
              "      const chunk = new Uint8Array(fileData, position, length);\n",
              "      position += length;\n",
              "\n",
              "      const base64 = btoa(String.fromCharCode.apply(null, chunk));\n",
              "      yield {\n",
              "        response: {\n",
              "          action: 'append',\n",
              "          file: file.name,\n",
              "          data: base64,\n",
              "        },\n",
              "      };\n",
              "\n",
              "      let percentDone = fileData.byteLength === 0 ?\n",
              "          100 :\n",
              "          Math.round((position / fileData.byteLength) * 100);\n",
              "      percent.textContent = `${percentDone}% done`;\n",
              "\n",
              "    } while (position < fileData.byteLength);\n",
              "  }\n",
              "\n",
              "  // All done.\n",
              "  yield {\n",
              "    response: {\n",
              "      action: 'complete',\n",
              "    }\n",
              "  };\n",
              "}\n",
              "\n",
              "scope.google = scope.google || {};\n",
              "scope.google.colab = scope.google.colab || {};\n",
              "scope.google.colab._files = {\n",
              "  _uploadFiles,\n",
              "  _uploadFilesContinue,\n",
              "};\n",
              "})(self);\n",
              "</script> "
            ]
          },
          "metadata": {}
        },
        {
          "output_type": "stream",
          "name": "stdout",
          "text": [
            "Saving neural_network_multilayer.py to neural_network_multilayer.py\n"
          ]
        },
        {
          "output_type": "execute_result",
          "data": {
            "text/plain": [
              "{'neural_network_multilayer.py': b'\\'\\'\\' Multilayered Neural Network \\'\\'\\'\\r\\n\\r\\n# Importing necessary libraries\\r\\nimport numpy as np\\r\\nimport matplotlib.pyplot as plt\\r\\n\\r\\nclass NeuralNetwork:\\r\\n\\r\\n    def __init__(self,lr=0.5,lamda=0.15,num_iters=50,hidden_layer_sizes=[16,16,16,16],batch_size=500,activation=\\'sigmoid\\'):\\r\\n        \\'\\'\\' \\'__init__\\' takes arguments as Learning Rate(lr), Regularization Constant(lamda), Number of Iterations(num_iters), layers(Hidden Layer Size as a list), Batch Size, func(Type of activation function) \\'\\'\\'\\r\\n        # All these parameters have been initialized by their default values, they can be changed when required\\r\\n        self.lr = lr\\r\\n        self.lamda = lamda\\r\\n        self.num_iters = num_iters\\r\\n        self.layers = hidden_layer_sizes\\r\\n        self.bs = batch_size\\r\\n        self.func = activation\\r\\n\\r\\n    \\'\\'\\' Sigmoid function maps all the values in the range of 0 to 1 \\'\\'\\'\\r\\n    def sigmoid_function(self,z):\\r\\n        return 1 / (1 + np.exp(-1 * z))\\r\\n\\r\\n    \\'\\'\\' tanh(z) function maps all values in the range of -1 to 1 \\'\\'\\'\\r\\n    def tanh_function(self,z):\\r\\n        return np.tanh(z)\\r\\n\\r\\n    \\'\\'\\' ReLU function maps all negative values to zero and positive values remains same \\'\\'\\'\\r\\n    def reLU_function(self,z):\\r\\n        return np.maximum(1e-10,z)\\r\\n\\r\\n    def activation_function(self,z):\\r\\n        if self.func == \\'sigmoid\\':\\r\\n            return self.sigmoid_function(z)\\r\\n        elif self.func == \\'relu\\':\\r\\n            return self.reLU_function(z)\\r\\n        elif self.func == \\'tanh\\':\\r\\n            return self.tanh_function(z)\\r\\n        else:\\r\\n            raise ValueError(f\"{self.func} Activation is unavailable.\")\\r\\n\\r\\n    \\'\\'\\' Derivates of the activation functions mentioned above \\'\\'\\'\\r\\n    def grad_function(self,a):\\r\\n        if self.func == \\'sigmoid\\':\\r\\n            return a * (1 - a)\\r\\n        elif self.func == \\'relu\\':\\r\\n            return (a > 1e-10).astype(int)\\r\\n        elif self.func == \\'tanh\\':\\r\\n            return (1 - a ** 2)\\r\\n        else:\\r\\n            raise ValueError(f\"{self.func} Activation is unavailable.\")\\r\\n\\r\\n    \\'\\'\\' Weights initialization \\'\\'\\'\\r\\n    def initialization(self,size):\\r\\n        if self.func == \\'tanh\\':\\r\\n            return np.sqrt(1 / size) # Xavier Initialization\\r\\n        else:\\r\\n            return np.sqrt(2 / size) # h-et-al Initialization\\r\\n\\r\\n    \\'\\'\\' Feature scaling using Standardization Technique \\'\\'\\'\\r\\n    def feature_scale(self,X):\\r\\n        m,n = X.shape\\r\\n        for i in range(n):\\r\\n            X[:,i] = (X[:,i] - np.mean(X[:,i])) / (np.std(X[:,i]) + 1e-18)\\r\\n        return X\\r\\n    \\r\\n    \\'\\'\\' Adds a column of ones at the start as bias and returns the modified array \\'\\'\\'\\r\\n    def add_bias(self,b):\\r\\n        return np.hstack((np.ones((len(b),1)),b))\\r\\n\\r\\n    \\'\\'\\' Removes the first column from the given array and returns the modified array \\'\\'\\'\\r\\n    def remove_bias(self,b):\\r\\n        return b[:,1:]\\r\\n\\r\\n    \\'\\'\\' \\'fit\\' function takes X,y and number of different classes as its arguments and trains the neuarl network \\'\\'\\'\\r\\n    def fit(self,X,y,num_class):\\r\\n        X = self.feature_scale(X) # Feature scaling\\r\\n        X = self.add_bias(X) # Adds bias column\\r\\n        m,n = X.shape\\r\\n        \\r\\n        # Adding input and output layer dimensions\\r\\n        self.layers = [n] + self.layers + [num_class]\\r\\n        L = len(self.layers)\\r\\n\\r\\n        self.num_class = num_class\\r\\n\\r\\n        # Converts \\'y\\' values to \\'y_class\\' as matrix type\\r\\n        y_class = np.zeros((m,self.num_class))\\r\\n        for i in range(m):\\r\\n            y_class[i][y[i]] = 1\\r\\n\\r\\n        # \\'Jhistory\\' and \\'iters\\' keeps track of cost with each iteration\\r\\n        self.Jhistory = []\\r\\n        self.iters = []\\r\\n\\r\\n        it = 0 # Stores the iteration value\\r\\n        self.theta = []\\r\\n\\r\\n        # Initializing parameter vectors theta.\\r\\n        for i in range(1,L):\\r\\n            if i == 1:\\r\\n                self.theta.append(np.random.randn(self.layers[i],self.layers[i - 1]) * 0.01)\\r\\n            else:\\r\\n                self.theta.append(np.random.randn(self.layers[i],self.layers[i - 1] + 1) * self.initialization(self.layers[i - 1]))\\r\\n         \\r\\n        for i in range(self.num_iters):\\r\\n            for k in range(m // self.bs):\\r\\n                X_mini = X[k*self.bs:(k+1)*self.bs,:]\\r\\n                y_mini = y_class[k*self.bs:(k+1)*self.bs,:]\\r\\n                \\r\\n                # Forward Propagation\\r\\n                a = []\\r\\n                for j in range(L-1):\\r\\n                    if j == 0:\\r\\n                        a1 = X_mini\\r\\n                        a.append(a1)\\r\\n                        z2 = a1 @ self.theta[j].T\\r\\n                        a2 = self.activation_function(z2)\\r\\n                        a2 = self.add_bias(a2)\\r\\n                    elif j < (L -2):\\r\\n                        a1 = a2\\r\\n                        z2 = a1 @ self.theta[j].T\\r\\n                        a2 = self.activation_function(z2)\\r\\n                        a2 = self.add_bias(a2)\\r\\n                    else:\\r\\n                        a1 = a2\\r\\n                        z2 = a1 @ self.theta[j].T\\r\\n                        a2 = self.sigmoid_function(z2)\\r\\n                    a.append(a2)\\r\\n\\r\\n                # Cost Function\\r\\n                J = (-1 / self.bs) * np.sum(y_mini * np.log(np.abs(a[-1]+1e-10)) + (1 - y_mini) * np.log(np.abs(1-a[-1]+1e-10)))\\r\\n                for j in range(L-1):\\r\\n                    J += (self.lamda / (2 * self.bs)) * (np.sum((self.theta[j])[:,1:] ** 2))\\r\\n                self.Jhistory.append(J)\\r\\n                it += 1\\r\\n                self.iters.append(it)\\r\\n\\r\\n                # Back Propagation\\r\\n                delta = []\\r\\n                grad = []\\r\\n                for j in range(L-1,0,-1):\\r\\n                    if j == (L - 1):\\r\\n                        delta2 = a[j] - y_mini\\r\\n                        delta_temp = delta2.T @ a[j-1]\\r\\n                    elif j == (L - 2):\\r\\n                        delta2 = (delta1 @ self.theta[j]) * self.grad_function(a[j])\\r\\n                        delta_temp = delta2[:,1:].T@a[j-2]\\r\\n                    else:\\r\\n                        delta1 = delta1[:,1:]\\r\\n                        delta2 = (delta1 @ self.theta[j]) * self.grad_function(a[j])\\r\\n                        delta_temp = delta2[:,1:].T @ a[j - 1]\\r\\n\\r\\n                    theta_temp = self.theta[j - 1]\\r\\n                    theta_temp[:,0] = 0\\r\\n                    grad.insert(0, ((1 / self.bs) * (delta_temp + self.lamda * theta_temp)))\\r\\n                    delta1 = delta2\\r\\n                \\r\\n                # Parameter update\\r\\n                for j in range(L-1):\\r\\n                    self.theta[j] -= self.lr*(grad[j])\\r\\n    \\r\\n    \\'\\'\\' Plotting the learning curve between cost and number of iterations \\'\\'\\'\\r\\n    def plot(self,l):\\r\\n        plt.plot(self.iters,self.Jhistory,color=\\'#00008B\\',label=l)\\r\\n        plt.xlabel(\"Number of Iterations\")\\r\\n        plt.ylabel(\"Cost Function(J)\")\\r\\n        plt.title(\"Cost Function Vs Iterations\")\\r\\n        plt.legend()\\r\\n\\r\\n    \\'\\'\\' It returns the predicted values given by the trained model \\'\\'\\'\\r\\n    def predict(self,X):\\r\\n        X = self.feature_scale(X)\\r\\n        X = self.add_bias(X)\\r\\n        L = len(self.layers)\\r\\n        for j in range(L-1):\\r\\n            if j == 0:\\r\\n                a1 = X\\r\\n                z2 = a1 @ self.theta[j].T\\r\\n                a2 = self.activation_function(z2)\\r\\n                a2 = self.add_bias(a2)\\r\\n            elif j < (L -2):\\r\\n                a1 = a2\\r\\n                z2 = a1 @ self.theta[j].T\\r\\n                a2 = self.activation_function(z2)\\r\\n                a2 = self.add_bias(a2)\\r\\n            else:\\r\\n                a1 = a2\\r\\n                z2 = a1 @ self.theta[j].T\\r\\n                a2 = self.sigmoid_function(z2)\\r\\n        ypred = np.argmax(a2,axis=1).reshape(len(a2),1)\\r\\n        return ypred\\r\\n    \\r\\n    \\'\\'\\' It returns the accuracy of the trained model \\'\\'\\'\\r\\n    def accuracy(self,y,ypred):\\r\\n        return np.mean(y == ypred) * 100'}"
            ]
          },
          "metadata": {},
          "execution_count": 1
        }
      ],
      "source": [
        "from google.colab import files\n",
        "files.upload()"
      ]
    },
    {
      "cell_type": "code",
      "source": [
        "# Importing necessary libraries\n",
        "import numpy as np\n",
        "import pandas as pd\n",
        "import matplotlib.pyplot as plt\n",
        "import warnings\n",
        "warnings.filterwarnings('ignore')"
      ],
      "metadata": {
        "id": "6le38ilq-wbL"
      },
      "execution_count": null,
      "outputs": []
    },
    {
      "cell_type": "markdown",
      "source": [
        "## Collecting the data"
      ],
      "metadata": {
        "id": "lVkkIeNEILRc"
      }
    },
    {
      "cell_type": "code",
      "source": [
        "# Importing, splitting and assigning the training data\n",
        "train_dataset = pd.read_csv('/content/sample_data/mnist_train_small.csv',header=None)\n",
        "Xtrain = np.array(train_dataset.iloc[:,1:])\n",
        "ytrain = np.array(train_dataset.iloc[:,0:1])\n",
        "\n",
        "# Importing, splitting and assigning the testing data\n",
        "test_dataset = pd.read_csv('/content/sample_data/mnist_test.csv',header=None)\n",
        "Xtest = np.array(test_dataset.iloc[:,1:])\n",
        "ytest = np.array(test_dataset.iloc[:,0:1])"
      ],
      "metadata": {
        "id": "lP96RQDJ-5dc"
      },
      "execution_count": null,
      "outputs": []
    },
    {
      "cell_type": "code",
      "source": [
        "train_samples = Xtrain.shape[0]\n",
        "test_samples = Xtest.shape[0]\n",
        "print(Xtrain.shape,ytrain.shape)\n",
        "print(Xtest.shape,ytest.shape)"
      ],
      "metadata": {
        "colab": {
          "base_uri": "https://localhost:8080/"
        },
        "id": "6iADrpsK-7F1",
        "outputId": "7db79072-702b-47ec-88dd-53af4b965981"
      },
      "execution_count": null,
      "outputs": [
        {
          "output_type": "stream",
          "name": "stdout",
          "text": [
            "(20000, 784) (20000, 1)\n",
            "(10000, 784) (10000, 1)\n"
          ]
        }
      ]
    },
    {
      "cell_type": "markdown",
      "source": [
        "- Training Dataset consists of 20000 samples.\n",
        "\n",
        "- Testing Dataset consists of 10000 samples.\n",
        "\n",
        "- Output of a sample is a single digit non negative integer."
      ],
      "metadata": {
        "id": "YOYgURX2ITI0"
      }
    },
    {
      "cell_type": "code",
      "source": [
        "n_class = len(np.unique(ytrain))\n",
        "print(\"Number of classes in the output:\",n_class)"
      ],
      "metadata": {
        "colab": {
          "base_uri": "https://localhost:8080/"
        },
        "id": "n1_dfLyp_CFl",
        "outputId": "bbd320a0-b33d-432f-9e9a-e8d97700d423"
      },
      "execution_count": null,
      "outputs": [
        {
          "output_type": "stream",
          "name": "stdout",
          "text": [
            "Number of classes in the output: 10\n"
          ]
        }
      ]
    },
    {
      "cell_type": "markdown",
      "source": [
        "## Mini Batch Gradient Descent\n",
        "\n",
        "- Entire data is split into $\\frac{train\\_samples}{500} = \\frac{20000}{500} = 40$ batches, with each batch has 500 samples.\n",
        "\n",
        "- The activation function for the output layer is **Sigmoid**.\n",
        "\n",
        "- Hidden Layers activations : **Sigmoid**, **Tanh**, and **ReLU**."
      ],
      "metadata": {
        "id": "BdEQ85cJKwEU"
      }
    },
    {
      "cell_type": "code",
      "source": [
        "from neural_network_multilayer import NeuralNetwork"
      ],
      "metadata": {
        "id": "ZA9c5IsH-9J7"
      },
      "execution_count": null,
      "outputs": []
    },
    {
      "cell_type": "code",
      "source": [
        "from prettytable import PrettyTable\n",
        "table = PrettyTable()\n",
        "table.field_names = [\"Activation Function\",\"Training Accuracy\",\"Testing Accuracy\"]"
      ],
      "metadata": {
        "id": "OG2hwbQnLYWg"
      },
      "execution_count": null,
      "outputs": []
    },
    {
      "cell_type": "markdown",
      "source": [
        "### Sigmoid Activation Function\n",
        "  \n",
        "    Time taken to train the model: 15s."
      ],
      "metadata": {
        "id": "gwMe3Q_NLjO9"
      }
    },
    {
      "cell_type": "code",
      "source": [
        "m1 = NeuralNetwork(lr=0.5,lamda=0.15,num_iters=50,hidden_layer_sizes=[16,16,16,16],batch_size=500,activation='sigmoid')\n",
        "# Takes Xtrain, ytrain and n_class as its arguments and update the weights\n",
        "m1.fit(Xtrain,ytrain,n_class)\n",
        "y1pred = m1.predict(Xtrain)\n",
        "yt1pred = m1.predict(Xtest)\n",
        "m1.plot(\"Sigmoid\") # Plotting (Cost Function vs Iterations)\n",
        "train_accuracy = m1.accuracy(ytrain,y1pred)\n",
        "test_accuracy = m1.accuracy(ytest,yt1pred)\n",
        "table.add_row([\"Sigmoid\",train_accuracy,test_accuracy])"
      ],
      "metadata": {
        "id": "TQvDTiAz_EmK",
        "colab": {
          "base_uri": "https://localhost:8080/",
          "height": 472
        },
        "outputId": "6f5816a0-cbfd-4d9c-d1b5-20cf5065617b"
      },
      "execution_count": null,
      "outputs": [
        {
          "output_type": "display_data",
          "data": {
            "text/plain": [
              "<Figure size 640x480 with 1 Axes>"
            ],
            "image/png": "[encoded data removed]"
          },
          "metadata": {}
        }
      ]
    },
    {
      "cell_type": "markdown",
      "source": [
        "### Tanh Activation Function\n",
        "\n",
        "    Time taken to train the model: 19s."
      ],
      "metadata": {
        "id": "LusZSahZL4U4"
      }
    },
    {
      "cell_type": "code",
      "source": [
        "m2 = NeuralNetwork(lr=0.5,lamda=0.15,num_iters=50,hidden_layer_sizes=[16,16,16,16],batch_size=500,activation='tanh')\n",
        "# Takes Xtrain, ytrain and n_class as its arguments and update the weights\n",
        "m2.fit(Xtrain,ytrain,n_class)\n",
        "y2pred = m2.predict(Xtrain)\n",
        "yt2pred = m2.predict(Xtest)\n",
        "m2.plot(\"Tanh\") # Plotting (Cost Function vs Iterations)\n",
        "train_accuracy = m2.accuracy(ytrain,y2pred)\n",
        "test_accuracy = m2.accuracy(ytest,yt2pred)\n",
        "table.add_row([\"Tanh\",train_accuracy,test_accuracy])"
      ],
      "metadata": {
        "colab": {
          "base_uri": "https://localhost:8080/",
          "height": 472
        },
        "id": "1xPtfczqL3wo",
        "outputId": "0ea2133b-adb8-4be6-d6c8-9e208b47c829"
      },
      "execution_count": null,
      "outputs": [
        {
          "output_type": "display_data",
          "data": {
            "text/plain": [
              "<Figure size 640x480 with 1 Axes>"
            ],
            "image/png": "[encoded data removed]"
          },
          "metadata": {}
        }
      ]
    },
    {
      "cell_type": "markdown",
      "source": [
        "### ReLU Activation Function\n",
        "\n",
        "    Time taken to train the model: 11s."
      ],
      "metadata": {
        "id": "xr6XyX9pMDiQ"
      }
    },
    {
      "cell_type": "code",
      "source": [
        "m3 = NeuralNetwork(lr=0.5,lamda=0.15,num_iters=50,hidden_layer_sizes=[16,16,16,16],batch_size=500,activation='relu')\n",
        "# Takes Xtrain, ytrain and n_class as its arguments and update the weights\n",
        "m3.fit(Xtrain,ytrain,n_class)\n",
        "y3pred = m3.predict(Xtrain)\n",
        "yt3pred = m3.predict(Xtest)\n",
        "m3.plot(\"ReLU\") # Plotting (Cost Function vs Iterations)\n",
        "train_accuracy = m3.accuracy(ytrain,y3pred)\n",
        "test_accuracy = m3.accuracy(ytest,yt3pred)\n",
        "table.add_row([\"ReLU\",train_accuracy,test_accuracy])"
      ],
      "metadata": {
        "colab": {
          "base_uri": "https://localhost:8080/",
          "height": 472
        },
        "id": "VfFZCBK-L2D9",
        "outputId": "fbbbaec0-dec2-4dbd-d459-fc83b0e0f539"
      },
      "execution_count": null,
      "outputs": [
        {
          "output_type": "display_data",
          "data": {
            "text/plain": [
              "<Figure size 640x480 with 1 Axes>"
            ],
            "image/png": "[encoded data removed]"
          },
          "metadata": {}
        }
      ]
    },
    {
      "cell_type": "markdown",
      "source": [
        "### Overall Summary of Multi Layered Neural Network"
      ],
      "metadata": {
        "id": "0sfAThL4MLBc"
      }
    },
    {
      "cell_type": "code",
      "source": [
        "print(table)"
      ],
      "metadata": {
        "colab": {
          "base_uri": "https://localhost:8080/"
        },
        "id": "KgbjBIdKMSvP",
        "outputId": "43885501-18cc-4994-bf5e-197411c3690b"
      },
      "execution_count": null,
      "outputs": [
        {
          "output_type": "stream",
          "name": "stdout",
          "text": [
            "+---------------------+-------------------+------------------+\n",
            "| Activation Function | Training Accuracy | Testing Accuracy |\n",
            "+---------------------+-------------------+------------------+\n",
            "|       Sigmoid       |       95.815      |      89.98       |\n",
            "|         Tanh        | 97.85000000000001 |      90.33       |\n",
            "|         ReLU        |        9.81       |       9.8        |\n",
            "+---------------------+-------------------+------------------+\n"
          ]
        }
      ]
    },
    {
      "cell_type": "markdown",
      "source": [
        "> The above model took less computation time as compared to Scikit learn model. **ReLU** function couldn't able to get efficient results, whereas **Tanh** function produced highest training and testing accuracy."
      ],
      "metadata": {
        "id": "4F0lYDJcVY5w"
      }
    },
    {
      "cell_type": "markdown",
      "source": [
        "## Multi-Layered Neural Network using scikit-learn"
      ],
      "metadata": {
        "id": "PUdXQ0E173sY"
      }
    },
    {
      "cell_type": "code",
      "source": [
        "from sklearn.neural_network import MLPClassifier\n",
        "from sklearn import preprocessing\n",
        "Xtrain = preprocessing.scale(Xtrain)\n",
        "ytrain = ytrain.ravel()\n",
        "Xtest = preprocessing.scale(Xtest)\n",
        "ytest = ytest.ravel()"
      ],
      "metadata": {
        "id": "syqS7GejNA8n"
      },
      "execution_count": null,
      "outputs": []
    },
    {
      "cell_type": "code",
      "source": [
        "from prettytable import PrettyTable\n",
        "sk_table = PrettyTable()\n",
        "sk_table.field_names = [\"Activation Function\",\"Training Accuracy\",\"Testing Accuracy\"]"
      ],
      "metadata": {
        "id": "lNE7ShjDNHV1"
      },
      "execution_count": null,
      "outputs": []
    },
    {
      "cell_type": "markdown",
      "source": [
        "### Sigmoid Activation Function\n",
        "\n",
        "    Time taken to train the model: 2m 14s."
      ],
      "metadata": {
        "id": "QJOKdexjNYt6"
      }
    },
    {
      "cell_type": "code",
      "source": [
        "sk1 = MLPClassifier(hidden_layer_sizes=(16,16,16,16), activation='logistic')\n",
        "sk1.fit(Xtrain,ytrain)\n",
        "train_accuracy = sk1.score(Xtrain,ytrain) * 100\n",
        "test_accuracy = sk1.score(Xtest,ytest) * 100\n",
        "sk_table.add_row([\"Sigmoid\",train_accuracy,test_accuracy])"
      ],
      "metadata": {
        "id": "oKPSQqh7AwnH"
      },
      "execution_count": null,
      "outputs": []
    },
    {
      "cell_type": "markdown",
      "source": [
        "### Tanh Activation Function\n",
        "\n",
        "    Time taken to train the model: 1m 32s."
      ],
      "metadata": {
        "id": "qPWaFlDANjPD"
      }
    },
    {
      "cell_type": "code",
      "source": [
        "sk2 = MLPClassifier(hidden_layer_sizes=(16,16,16,16), activation='tanh')\n",
        "sk2.fit(Xtrain,ytrain)\n",
        "train_accuracy = sk2.score(Xtrain,ytrain) * 100\n",
        "test_accuracy = sk2.score(Xtest,ytest) * 100\n",
        "sk_table.add_row([\"Tanh\",train_accuracy,test_accuracy])"
      ],
      "metadata": {
        "id": "UhIgAy1ECLra"
      },
      "execution_count": null,
      "outputs": []
    },
    {
      "cell_type": "markdown",
      "source": [
        "### ReLU Activation Function\n",
        "\n",
        "    Time taken to train the model: 41s."
      ],
      "metadata": {
        "id": "tJcVteFzNutw"
      }
    },
    {
      "cell_type": "code",
      "source": [
        "sk3 = MLPClassifier(hidden_layer_sizes=(40), activation='relu')\n",
        "sk3.fit(Xtrain,ytrain)\n",
        "train_accuracy = sk3.score(Xtrain,ytrain) * 100\n",
        "test_accuracy = sk3.score(Xtest,ytest) * 100\n",
        "sk_table.add_row([\"ReLU\",train_accuracy,test_accuracy])"
      ],
      "metadata": {
        "id": "foiEOoKpNSvJ"
      },
      "execution_count": null,
      "outputs": []
    },
    {
      "cell_type": "markdown",
      "source": [
        "### Overall Summary of Scikit-learn model"
      ],
      "metadata": {
        "id": "1IoXZPj3N3Ao"
      }
    },
    {
      "cell_type": "code",
      "source": [
        "print(sk_table)"
      ],
      "metadata": {
        "colab": {
          "base_uri": "https://localhost:8080/"
        },
        "id": "Yf5uQ4QTN2en",
        "outputId": "82859b6d-e778-4da3-de1c-88fd3c4fda7e"
      },
      "execution_count": null,
      "outputs": [
        {
          "output_type": "stream",
          "name": "stdout",
          "text": [
            "+---------------------+-------------------+-------------------+\n",
            "| Activation Function | Training Accuracy |  Testing Accuracy |\n",
            "+---------------------+-------------------+-------------------+\n",
            "|       Sigmoid       | 99.02499999999999 |       84.15       |\n",
            "|         Tanh        |       99.83       | 88.64999999999999 |\n",
            "|         ReLU        |       100.0       |       94.31       |\n",
            "+---------------------+-------------------+-------------------+\n"
          ]
        }
      ]
    },
    {
      "cell_type": "markdown",
      "source": [
        "> Scikit learn model is highly efficient for all types of activation functions."
      ],
      "metadata": {
        "id": "ay0TVxMpU_Aw"
      }
    },
    {
      "cell_type": "code",
      "source": [],
      "metadata": {
        "id": "BZdypj7oU5hY"
      },
      "execution_count": null,
      "outputs": []
    }
  ]
}